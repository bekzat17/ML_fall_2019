{
  "nbformat": 4,
  "nbformat_minor": 0,
  "metadata": {
    "colab": {
      "name": "Untitled0.ipynb",
      "provenance": [],
      "collapsed_sections": [],
      "include_colab_link": true
    },
    "kernelspec": {
      "name": "python3",
      "display_name": "Python 3"
    }
  },
  "cells": [
    {
      "cell_type": "markdown",
      "metadata": {
        "id": "view-in-github",
        "colab_type": "text"
      },
      "source": [
        "<a href=\"https://colab.research.google.com/github/bekzat17/ML_fall_2019/blob/master/KNN.ipynb\" target=\"_parent\"><img src=\"https://colab.research.google.com/assets/colab-badge.svg\" alt=\"Open In Colab\"/></a>"
      ]
    },
    {
      "cell_type": "code",
      "metadata": {
        "id": "IUxjz0wY1Clp",
        "colab_type": "code",
        "colab": {
          "base_uri": "https://localhost:8080/",
          "height": 238
        },
        "outputId": "882f8549-a6c4-437d-9078-eb02c542e5c4"
      },
      "source": [
        "from sklearn.datasets import load_iris\n",
        "from sklearn.model_selection import train_test_split\n",
        "from sklearn.neighbors import KNeighborsClassifier\n",
        "from sklearn import metrics\n",
        "import matplotlib.pyplot as plt\n",
        "\n",
        "\n",
        "iris = load_iris()\n",
        "print(type(iris))\n",
        "print(iris.feature_names)\n",
        "print(iris.target)\n",
        "print(iris.target_names)\n",
        "print(type(iris.data))\n",
        "print(type(iris.target))\n",
        "print(iris.data.shape)\n",
        "\n",
        "X = iris.data\n",
        "y = iris.target\n",
        "\n",
        "X_train, X_test, y_train, y_test = train_test_split(X, y, test_size=0.2, random_state=4)\n",
        "\n",
        "# print(X_train.shape)\n",
        "# print(X_test.shape)\n",
        "\n",
        "# print(y_train.shape)\n",
        "# print(y_test.shape)\n",
        "\n",
        "k_range = range(1, 26)\n",
        "scores = {}\n",
        "scores_list = []\n",
        "for k in k_range:\n",
        "    knn = KNeighborsClassifier(n_neighbors=k)\n",
        "    knn.fit(X_train, y_train)\n",
        "    y_predict = knn.predict(X_test)\n",
        "    scores[k] = metrics.accuracy_score(y_test, y_predict)\n",
        "    scores_list.append(metrics.accuracy_score(y_test, y_predict))\n",
        "\n",
        "# plt.plot(k_range, scores_list)\n",
        "# plt.xlabel(\"Value of k for KNN\")\n",
        "# plt.xlabel(\"Testing accuracy\")\n",
        "# plt.show()\n",
        "\n",
        "# knn = KNeighborsClassifier(n_neighbors=5)\n",
        "knn = KNeighborsClassifier(algorithm='auto', leaf_size=30, metric='manhattan',\n",
        "                     metric_params=None, n_jobs=None, n_neighbors=5, p=2,\n",
        "                     weights='uniform')\n",
        "\n",
        "knn.fit(X, y)\n",
        "classes = {0: 'setosa', 1: 'versicolor', 2: 'virginica'}\n",
        "x_new = [[3, 4, 5, 2],\n",
        "         [5, 4, 2, 2]]\n",
        "y_predict = knn.predict(x_new)\n",
        "\n",
        "print(classes[y_predict[0]])\n",
        "print(classes[y_predict[1]])"
      ],
      "execution_count": 7,
      "outputs": [
        {
          "output_type": "stream",
          "text": [
            "<class 'sklearn.utils.Bunch'>\n",
            "['sepal length (cm)', 'sepal width (cm)', 'petal length (cm)', 'petal width (cm)']\n",
            "[0 0 0 0 0 0 0 0 0 0 0 0 0 0 0 0 0 0 0 0 0 0 0 0 0 0 0 0 0 0 0 0 0 0 0 0 0\n",
            " 0 0 0 0 0 0 0 0 0 0 0 0 0 1 1 1 1 1 1 1 1 1 1 1 1 1 1 1 1 1 1 1 1 1 1 1 1\n",
            " 1 1 1 1 1 1 1 1 1 1 1 1 1 1 1 1 1 1 1 1 1 1 1 1 1 1 2 2 2 2 2 2 2 2 2 2 2\n",
            " 2 2 2 2 2 2 2 2 2 2 2 2 2 2 2 2 2 2 2 2 2 2 2 2 2 2 2 2 2 2 2 2 2 2 2 2 2\n",
            " 2 2]\n",
            "['setosa' 'versicolor' 'virginica']\n",
            "<class 'numpy.ndarray'>\n",
            "<class 'numpy.ndarray'>\n",
            "(150, 4)\n",
            "virginica\n",
            "setosa\n"
          ],
          "name": "stdout"
        }
      ]
    }
  ]
}