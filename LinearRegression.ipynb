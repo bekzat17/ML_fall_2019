{
  "nbformat": 4,
  "nbformat_minor": 0,
  "metadata": {
    "colab": {
      "name": "Untitled0.ipynb",
      "provenance": [],
      "collapsed_sections": [],
      "include_colab_link": true
    },
    "kernelspec": {
      "name": "python3",
      "display_name": "Python 3"
    }
  },
  "cells": [
    {
      "cell_type": "markdown",
      "metadata": {
        "id": "view-in-github",
        "colab_type": "text"
      },
      "source": [
        "<a href=\"https://colab.research.google.com/github/bekzat17/ML_fall_2019/blob/master/LinearRegression.ipynb\" target=\"_parent\"><img src=\"https://colab.research.google.com/assets/colab-badge.svg\" alt=\"Open In Colab\"/></a>"
      ]
    },
    {
      "cell_type": "code",
      "metadata": {
        "id": "IUxjz0wY1Clp",
        "colab_type": "code",
        "colab": {
          "base_uri": "https://localhost:8080/",
          "height": 635
        },
        "outputId": "188ca7d0-768d-424b-a595-757f3ddade0a"
      },
      "source": [
        "import numpy as np\n",
        "from sklearn.datasets import load_boston\n",
        "import matplotlib.pyplot as plt\n",
        "\n",
        "dataset = load_boston()\n",
        "\n",
        "X = dataset.data\n",
        "y = dataset.target[:, np.newaxis]\n",
        "\n",
        "print(\"Total samples in our dataset is: {}\".format(X.shape[0]))\n",
        "\n",
        "\n",
        "def compute_cost(X, y, params):\n",
        "    n_samples = len(y)\n",
        "    h = X @ params\n",
        "    return (1/(2*n_samples))*np.sum((h-y)**2)\n",
        "\n",
        "\n",
        "def gradient_descent(X, y, params, learning_rate, n_iters):\n",
        "    n_samples = len(y)\n",
        "    J_history = np.zeros((n_iters,1))\n",
        "    for i in range(n_iters):\n",
        "        params = params - (learning_rate/n_samples) * X.T @ (X @ params - y)\n",
        "        J_history[i] = compute_cost(X, y, params)\n",
        "    return (J_history, params)\n",
        "\n",
        "\n",
        "n_samples = len(y)\n",
        "\n",
        "mu = np.mean(X, 0)\n",
        "sigma = np.std(X, 0)\n",
        "\n",
        "X = (X-mu) / sigma\n",
        "\n",
        "X = np.hstack((np.ones((n_samples,1)),X))\n",
        "n_features = np.size(X, 1)\n",
        "params = np.zeros((n_features,1))\n",
        "\n",
        "\n",
        "n_iters = 100\n",
        "learning_rate = 0.01\n",
        "\n",
        "initial_cost = compute_cost(X, y, params)\n",
        "\n",
        "print(\"Initial cost is: \", initial_cost, \"\\n\")\n",
        "\n",
        "(J_history, optimal_params) = gradient_descent(X, y, params, learning_rate, n_iters)\n",
        "\n",
        "print(\"Optimal parameters are: \\n\", optimal_params, \"\\n\")\n",
        "print(\"Final cost is: \", J_history[-1])\n",
        "\n",
        "plt.plot(range(len(J_history)), J_history, 'r')\n",
        "plt.title(\"Convergence Graph of Cost Function\")\n",
        "plt.xlabel(\"Number of Iterations\")\n",
        "plt.ylabel(\"Cost\")\n",
        "plt.show()"
      ],
      "execution_count": 8,
      "outputs": [
        {
          "output_type": "stream",
          "text": [
            "Total samples in our dataset is: 506\n",
            "Initial cost is:  296.0734584980237 \n",
            "\n",
            "Optimal parameters are: \n",
            " [[14.28507047]\n",
            " [-0.59432378]\n",
            " [ 0.45391803]\n",
            " [-0.56129831]\n",
            " [ 0.7858901 ]\n",
            " [-0.43633501]\n",
            " [ 2.5763949 ]\n",
            " [-0.25049398]\n",
            " [-0.67330639]\n",
            " [-0.02827091]\n",
            " [-0.49865537]\n",
            " [-1.43964845]\n",
            " [ 0.66126887]\n",
            " [-2.27355929]] \n",
            "\n",
            "Final cost is:  [47.49122088]\n"
          ],
          "name": "stdout"
        },
        {
          "output_type": "display_data",
          "data": {
            "image/png": "[encoded data removed]",
            "text/plain": [
              "<Figure size 432x288 with 1 Axes>"
            ]
          },
          "metadata": {
            "tags": []
          }
        }
      ]
    }
  ]
}