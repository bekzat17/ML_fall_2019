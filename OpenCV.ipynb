{
  "nbformat": 4,
  "nbformat_minor": 0,
  "metadata": {
    "colab": {
      "name": "Untitled1.ipynb",
      "provenance": [],
      "collapsed_sections": [],
      "include_colab_link": true
    },
    "kernelspec": {
      "name": "python3",
      "display_name": "Python 3"
    }
  },
  "cells": [
    {
      "cell_type": "markdown",
      "metadata": {
        "id": "view-in-github",
        "colab_type": "text"
      },
      "source": [
        "<a href=\"https://colab.research.google.com/github/bekzat17/ML_fall_2019/blob/master/OpenCV.ipynb\" target=\"_parent\"><img src=\"https://colab.research.google.com/assets/colab-badge.svg\" alt=\"Open In Colab\"/></a>"
      ]
    },
    {
      "cell_type": "code",
      "metadata": {
        "id": "vx0iI_th6zIR",
        "colab_type": "code",
        "colab": {}
      },
      "source": [
        "import cv2\n",
        "import numpy as np\n",
        "from matplotlib import pyplot as plt\n",
        "# Load image and convert to grey.\n",
        "img = cv2.imread('veritas.png', 0)\n",
        "plt.imshow(img, 'gray')\n",
        "\n",
        "# Resize\n",
        "img_resized = cv2.resize(img, (360, 480))\n",
        "\n",
        "plt.imshow(img_resized, 'gray')\n",
        "plt.show()\n",
        "\n",
        "# Rotate\n",
        "(h, w) = img.shape[:2]\n",
        "# calculate the center of the image\n",
        "center = (w / 2, h / 2)\n",
        "\n",
        "angle90 = 90\n",
        "angle180 = 180\n",
        "angle270 = 270\n",
        "\n",
        "scale = 1.0\n",
        "\n",
        "M = cv2.getRotationMatrix2D(center, angle180, scale)\n",
        "rotated180 = cv2.warpAffine(img, M, (w, h))\n",
        "\n",
        "plt.imshow(rotated180, 'gray')\n",
        "plt.show()\n",
        "\n",
        "# Transform\n",
        "rows,cols = img.shape\n",
        "pts1 = np.float32([[50,50],[200,50],[50,200]])\n",
        "pts2 = np.float32([[10,100],[200,50],[100,250]])\n",
        "Mat = cv2.getAffineTransform(pts1,pts2)\n",
        "dst = cv2.warpAffine(img,Mat,(cols,rows))\n",
        "\n",
        "plt.subplot(121),plt.imshow(img),plt.title('Input')\n",
        "plt.subplot(122),plt.imshow(dst),plt.title('Output')\n",
        "\n",
        "# saving (wont save though, just an example of imwrite)\n",
        "cv2.imwrite('/home/img/rotated180.jpg', rotated180)"
      ],
      "execution_count": 0,
      "outputs": []
    }
  ]
}